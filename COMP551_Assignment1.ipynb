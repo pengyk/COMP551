{
  "nbformat": 4,
  "nbformat_minor": 0,
  "metadata": {
    "colab": {
      "name": "COMP551_Assignment1",
      "provenance": [],
      "collapsed_sections": [],
      "mount_file_id": "1SiacjfKCZqezjfbZwSp_-EIOpQlxU35W",
      "authorship_tag": "ABX9TyNDpIMkXuEruNv6JR8NDCg9",
      "include_colab_link": true
    },
    "kernelspec": {
      "name": "python3",
      "display_name": "Python 3"
    }
  },
  "cells": [
    {
      "cell_type": "markdown",
      "metadata": {
        "id": "view-in-github",
        "colab_type": "text"
      },
      "source": [
        "<a href=\"https://colab.research.google.com/github/pengyk/COMP551/blob/main/COMP551_Assignment1.ipynb\" target=\"_parent\"><img src=\"https://colab.research.google.com/assets/colab-badge.svg\" alt=\"Open In Colab\"/></a>"
      ]
    },
    {
      "cell_type": "code",
      "metadata": {
        "id": "k4k479oa6TfG"
      },
      "source": [
        "import pandas as pd\n",
        "from google.colab import files\n",
        "from datetime import datetime, timedelta\n",
        "from dateutil.parser import parse\n",
        "\n",
        "\n",
        "base_path = \"drive/My Drive/COMP551/assignment1/\"\n",
        "search_pattern_path = base_path + \"2020_US_weekly_symptoms_dataset.csv\"\n",
        "cases_path = base_path + \"aggregated_cc_by.csv\"\n",
        "combined_path = base_path + \"combined_data.csv\""
      ],
      "execution_count": null,
      "outputs": []
    },
    {
      "cell_type": "markdown",
      "metadata": {
        "id": "ycTpzpRwUf7S"
      },
      "source": [
        "# Function to trim off rows and columns with too many NaN"
      ]
    },
    {
      "cell_type": "code",
      "metadata": {
        "id": "P1MX8wTq6mGg"
      },
      "source": [
        "def clean_data(df):\n",
        "  (rows, cols) = df.shape\n",
        "  print(rows, cols)\n",
        "  row_threshold = int(rows * 0.05)\n",
        "  col_threshold = int(cols * 0.05)\n",
        "\n",
        "  df = df.dropna(axis = 0, thresh = row_threshold)\n",
        "  df = df.dropna(axis = 1, thresh = col_threshold)\n",
        "  df = df.reset_index(drop = True)\n",
        "  (rows, cols) = df.shape\n",
        "  print(rows, cols)\n",
        "  return df\n"
      ],
      "execution_count": null,
      "outputs": []
    },
    {
      "cell_type": "markdown",
      "metadata": {
        "id": "7wf4WKU_Uj94"
      },
      "source": [
        "# Function to only get the data from United States"
      ]
    },
    {
      "cell_type": "code",
      "metadata": {
        "id": "SvkSgv51Ue3h"
      },
      "source": [
        "def select_USA(df):\n",
        "  df = df.loc[df['open_covid_region_code'] == 'USA']\n",
        "  df = df.reset_index(drop = True)\n",
        "  return df"
      ],
      "execution_count": null,
      "outputs": []
    },
    {
      "cell_type": "markdown",
      "metadata": {
        "id": "81wfywkCdWHW"
      },
      "source": [
        "# Function to transform columns to objects under a \"search\" column (easier to manipulate later when separating between search and cases)"
      ]
    },
    {
      "cell_type": "code",
      "metadata": {
        "id": "PRBP1pQKOTg9"
      },
      "source": [
        "def shorten_weekly_to_objects(df):\n",
        "  df['search'] = \"\"\n",
        "  for index, row in df.iterrows():\n",
        "    row_object = row\n",
        "    df['search'][index] = row_object\n",
        "\n",
        "  df = df.loc[:, df.columns.intersection(['date','search'])]\n",
        "  index = 0\n",
        "  while index < df.shape[0]:\n",
        "    curr_date = df['date'][index]\n",
        "    selected_rows = df.loc[df['date'] == curr_date]\n",
        "    df['search'][index] = selected_rows\n",
        "    index += 1\n",
        "  return df"
      ],
      "execution_count": null,
      "outputs": []
    },
    {
      "cell_type": "code",
      "metadata": {
        "id": "J1RjxuQ9Qg9r"
      },
      "source": [
        "def merge_daily_into_weekly(daily_df, weekly_df):\n",
        "  weekly_df['cases'] = \"\"\n",
        "  daily_index = 0\n",
        "  weekly_index = 0\n",
        "  # don't want values outside of the range of date - 6 days\n",
        "  firstday = parse(weekly_df['date'][weekly_index])\n",
        "  print(firstday)\n",
        "  six_days_before_first_date = firstday - timedelta(days=6)\n",
        "  print(six_days_before_first_date)\n",
        "\n",
        "  # catch up the daily entries up to one week before weekly entries\n",
        "  while daily_index < daily_df.shape[0] and parse(daily_df['date'][daily_index]) < six_days_before_first_date:\n",
        "    daily_index += 1\n",
        "\n",
        "  # catch up the weekly to the daily entries if they are behind\n",
        "  while weekly_index < weekly_df.shape[0] and parse(weekly_df['date'][weekly_index]) < parse(daily_df['date'][daily_index]):\n",
        "    weekly_index += 1 \n",
        "\n",
        "  while daily_index < daily_df.shape[0] and weekly_index < weekly_df.shape[0]:\n",
        "    arr = []\n",
        "    while parse(daily_df['date'][daily_index]) <= parse(weekly_df['date'][weekly_index]):\n",
        "      arr.append(daily_df.iloc[ daily_index , : ])\n",
        "      daily_index += 1\n",
        "    weekly_df['cases'][weekly_index] = arr\n",
        "    weekly_index += 1\n",
        "  return weekly_df"
      ],
      "execution_count": null,
      "outputs": []
    },
    {
      "cell_type": "markdown",
      "metadata": {
        "id": "LdCEFXVDsizM"
      },
      "source": [
        "# Main"
      ]
    },
    {
      "cell_type": "code",
      "metadata": {
        "id": "Qz3eyDUPskal"
      },
      "source": [
        "search_df = pd.read_csv(search_pattern_path) \n",
        "cases_df = pd.read_csv(cases_path) \n",
        "\n",
        "print(type(search_df))\n",
        "\n",
        "cases_df = select_USA(cases_df)\n",
        "\n",
        "search_df = clean_data(search_df)\n",
        "cases_df = clean_data(cases_df)\n",
        "search_df = shorten_weekly_to_objects(search_df)\n",
        "print(search_df)\n",
        "print(\"____________________\")\n",
        "print(cases_df)\n",
        "combined_df = merge_daily_into_weekly(cases_df, search_df)\n",
        "combined_df.head()\n",
        "print(combined_df)\n",
        "combined_df.to_csv(combined_path)"
      ],
      "execution_count": null,
      "outputs": []
    },
    {
      "cell_type": "code",
      "metadata": {
        "id": "-Nq2uG1quZCl"
      },
      "source": [
        ""
      ],
      "execution_count": null,
      "outputs": []
    }
  ]
}